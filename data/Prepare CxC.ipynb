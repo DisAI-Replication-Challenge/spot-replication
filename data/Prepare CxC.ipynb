{
 "cells": [
  {
   "cell_type": "code",
   "execution_count": null,
   "metadata": {},
   "outputs": [],
   "source": [
    "import json\n",
    "import pandas as pd\n",
    "from tqdm import tqdm"
   ]
  },
  {
   "cell_type": "code",
   "execution_count": null,
   "metadata": {},
   "outputs": [],
   "source": [
    "with open('data/coco_input/coco/dataset.json') as f:\n",
    "    data = json.load(f)"
   ]
  },
  {
   "cell_type": "code",
   "execution_count": null,
   "metadata": {},
   "outputs": [],
   "source": [
    "sentences = {}\n",
    "for image in data['images']:\n",
    "    for sentence in image['sentences']:\n",
    "        sentences[sentence['sentid']] = sentence['raw']"
   ]
  },
  {
   "cell_type": "code",
   "execution_count": null,
   "metadata": {},
   "outputs": [],
   "source": [
    "sts_val_df = pd.read_csv('data/sts/sts_val.csv')\n",
    "sts_test_df = pd.read_csv('data/sts/sts_test.csv')"
   ]
  },
  {
   "cell_type": "code",
   "execution_count": null,
   "metadata": {},
   "outputs": [],
   "source": [
    "def find_sentece_by_id(sentences, id):\n",
    "    return sentences.get(id, None)"
   ]
  },
  {
   "cell_type": "code",
   "execution_count": null,
   "metadata": {},
   "outputs": [],
   "source": [
    "sts_val_df"
   ]
  },
  {
   "cell_type": "code",
   "execution_count": null,
   "metadata": {},
   "outputs": [],
   "source": [
    "final_df = pd.DataFrame(columns=['sentence1', 'sentence2', 'score'])\n",
    "for i, row in tqdm(sts_val_df.iterrows(), total=len(sts_val_df)):\n",
    "  sentence1_id = int(row['caption1'].split(\":\")[-1])\n",
    "  sentence2_id = int(row['caption2'].split(\":\")[-1])\n",
    "  sentence1 = find_sentece_by_id(sentences, sentence1_id)\n",
    "  sentence2 = find_sentece_by_id(sentences, sentence2_id)\n",
    "  final_df = final_df.append({'sentence1': sentence1, 'sentence2': sentence2, 'score': row['agg_score']}, ignore_index=True)"
   ]
  },
  {
   "cell_type": "code",
   "execution_count": null,
   "metadata": {},
   "outputs": [],
   "source": [
    "for i, row in tqdm(sts_test_df.iterrows(), total=len(sts_test_df)):\n",
    "  sentence1_id = int(row['caption1'].split(\":\")[-1])\n",
    "  sentence2_id = int(row['caption2'].split(\":\")[-1])\n",
    "  sentence1 = find_sentece_by_id(sentences, sentence1_id)\n",
    "  sentence2 = find_sentece_by_id(sentences, sentence2_id)\n",
    "  final_df = final_df.append({'sentence1': sentence1, 'sentence2': sentence2, 'score': row['agg_score']}, ignore_index=True)"
   ]
  },
  {
   "cell_type": "code",
   "execution_count": null,
   "metadata": {},
   "outputs": [],
   "source": [
    "final_df.to_csv('sts-data.csv', index=False)"
   ]
  }
 ],
 "metadata": {
  "kernelspec": {
   "display_name": "replication",
   "language": "python",
   "name": "python3"
  },
  "language_info": {
   "codemirror_mode": {
    "name": "ipython",
    "version": 3
   },
   "file_extension": ".py",
   "mimetype": "text/x-python",
   "name": "python",
   "nbconvert_exporter": "python",
   "pygments_lexer": "ipython3",
   "version": "3.11.5"
  }
 },
 "nbformat": 4,
 "nbformat_minor": 2
}
